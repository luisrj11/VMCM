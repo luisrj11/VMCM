{
 "cells": [
  {
   "cell_type": "code",
   "execution_count": 12,
   "metadata": {},
   "outputs": [
    {
     "ename": "ValueError",
     "evalue": "could not broadcast input array from shape (3,) into shape (1,)",
     "output_type": "error",
     "traceback": [
      "\u001b[0;31m---------------------------------------------------------------------------\u001b[0m",
      "\u001b[0;31mValueError\u001b[0m                                Traceback (most recent call last)",
      "Cell \u001b[0;32mIn[12], line 8\u001b[0m\n\u001b[1;32m      6\u001b[0m Position_old \u001b[38;5;241m=\u001b[39m np\u001b[38;5;241m.\u001b[39mzeros((Number_particles,Dimension), np\u001b[38;5;241m.\u001b[39mdouble)\n\u001b[1;32m      7\u001b[0m Position_new \u001b[38;5;241m=\u001b[39m np\u001b[38;5;241m.\u001b[39mzeros((Number_particles,Dimension), np\u001b[38;5;241m.\u001b[39mdouble)\n\u001b[0;32m----> 8\u001b[0m \u001b[43mPosition_old\u001b[49m\u001b[43m[\u001b[49m\u001b[38;5;241;43m1\u001b[39;49m\u001b[43m]\u001b[49m \u001b[38;5;241m=\u001b[39m np\u001b[38;5;241m.\u001b[39marray([\u001b[38;5;241m1\u001b[39m,\u001b[38;5;241m1\u001b[39m,\u001b[38;5;241m2\u001b[39m])\n\u001b[1;32m      9\u001b[0m Position_old[\u001b[38;5;241m2\u001b[39m] \u001b[38;5;241m=\u001b[39m np\u001b[38;5;241m.\u001b[39marray([\u001b[38;5;241m1\u001b[39m,\u001b[38;5;241m1\u001b[39m,\u001b[38;5;241m3\u001b[39m])\n",
      "\u001b[0;31mValueError\u001b[0m: could not broadcast input array from shape (3,) into shape (1,)"
     ]
    }
   ],
   "source": [
    "import numpy  as np \n",
    "\n",
    "Number_particles = 10\n",
    "Dimension = 1\n",
    "# Positions \n",
    "Position_old = np.zeros((Number_particles,Dimension), np.double)\n",
    "Position_new = np.zeros((Number_particles,Dimension), np.double)\n",
    "Position_old[1] = np.array([1,1,2])\n",
    "Position_old[2] = np.array([1,1,3])"
   ]
  },
  {
   "cell_type": "code",
   "execution_count": null,
   "metadata": {},
   "outputs": [
    {
     "data": {
      "text/plain": [
       "array([0., 0., 0., 0., 0., 0., 0., 0., 0., 0.])"
      ]
     },
     "execution_count": 26,
     "metadata": {},
     "output_type": "execute_result"
    }
   ],
   "source": [
    "Position_old[:,-1]"
   ]
  },
  {
   "cell_type": "code",
   "execution_count": null,
   "metadata": {},
   "outputs": [
    {
     "name": "stdout",
     "output_type": "stream",
     "text": [
      "r_01\n",
      "r_02\n",
      "r_03\n",
      "r_04\n",
      "r_05\n",
      "r_12\n",
      "r_13\n",
      "r_14\n",
      "r_15\n",
      "r_23\n",
      "r_24\n",
      "r_25\n",
      "r_34\n",
      "r_35\n",
      "r_45\n"
     ]
    }
   ],
   "source": [
    "j = 0\n",
    "N = 5\n",
    "for i in range(N):\n",
    "    j = i + 1\n",
    "    while i < j and j <= N:\n",
    "        print(f'r_{i}{j}')\n",
    "        j =  j +1\n",
    "    "
   ]
  },
  {
   "cell_type": "code",
   "execution_count": null,
   "metadata": {},
   "outputs": [
    {
     "name": "stdout",
     "output_type": "stream",
     "text": [
      "0 1\n",
      "0 2\n",
      "0 3\n",
      "0 4\n",
      "1 2\n",
      "1 3\n",
      "1 4\n",
      "2 3\n",
      "2 4\n",
      "3 4\n"
     ]
    },
    {
     "data": {
      "text/plain": [
       "Array(9., dtype=float32)"
      ]
     },
     "execution_count": 11,
     "metadata": {},
     "output_type": "execute_result"
    }
   ],
   "source": [
    "import jax.numpy as jnp\n",
    "from jax.numpy import linalg\n",
    "\n",
    "Number_particles = 5\n",
    "Dimension = 3\n",
    "# Positions \n",
    "Position_old = np.zeros((Number_particles,Dimension), np.double)\n",
    "Position_new = np.zeros((Number_particles,Dimension), np.double)\n",
    "Position_old[1] = np.array([1,1,1])\n",
    "\n",
    "r = Position_old\n",
    "Number_particles = len(r)\n",
    "r_sum = jnp.sum(r**2)\n",
    "r_sum_interacting = jnp.array([])\n",
    "j = 0\n",
    "for i in range(Number_particles):\n",
    "    j = i + 1\n",
    "    while i < j and j < Number_particles:\n",
    "        print(i,j)\n",
    "        rij = r[i]-r[j]\n",
    "        r_sum_interacting = jnp.append(r_sum_interacting,rij)\n",
    "        j = j + 1 \n",
    "r_sum_interacting = jnp.sum(r_sum_interacting)\n",
    "r_sum + r_sum_interacting"
   ]
  },
  {
   "cell_type": "code",
   "execution_count": null,
   "metadata": {},
   "outputs": [
    {
     "data": {
      "text/plain": [
       "2.0"
      ]
     },
     "execution_count": 32,
     "metadata": {},
     "output_type": "execute_result"
    }
   ],
   "source": [
    "vector = np.array([1,1,1,1])\n",
    "np.linalg.norm(vector)"
   ]
  },
  {
   "cell_type": "code",
   "execution_count": 13,
   "metadata": {},
   "outputs": [
    {
     "name": "stdout",
     "output_type": "stream",
     "text": [
      "HOLAF.Kennedy\n",
      "x = 2\n",
      "y = 0\n"
     ]
    }
   ],
   "source": [
    "def display(x = 0, y = 0, **name): \n",
    "      \n",
    "    print (name[\"fname\"]+name[\"mname\"]+name[\"lname\"]) \n",
    "    print (\"x =\", x) \n",
    "    print (\"y =\", y) \n",
    "  \n",
    "def main(): \n",
    "    # passing dictionary key-value  \n",
    "    # pair with other arguments \n",
    "    display(2, fname = 'HOLA', mname =\"F.\", lname =\"Kennedy\") \n",
    "      \n",
    "# Driver's code \n",
    "main() \n"
   ]
  },
  {
   "cell_type": "code",
   "execution_count": 14,
   "metadata": {},
   "outputs": [
    {
     "name": "stdout",
     "output_type": "stream",
     "text": [
      "The original dictionary is : {'Gfg': <function print_key1 at 0x7fc19cd56d40>, 'is': 5, 'best': 9}\n",
      "The required call result : This is Gfg's value\n"
     ]
    }
   ],
   "source": [
    "def print_key1():\n",
    "    return \"This is Gfg's value\"\n",
    " \n",
    "# initializing dictionary\n",
    "# check for function name as key\n",
    "test_dict = {\"Gfg\": print_key1, \"is\" : 5, \"best\" : 9}\n",
    " \n",
    "# printing original dictionary\n",
    "print(\"The original dictionary is : \" + str(test_dict))\n",
    " \n",
    "# calling function using brackets \n",
    "res = test_dict['Gfg']()\n",
    " \n",
    "# printing result \n",
    "print(\"The required call result : \" + str(res)) "
   ]
  },
  {
   "cell_type": "code",
   "execution_count": 51,
   "metadata": {},
   "outputs": [],
   "source": [
    "def f(x,y={'hola':'yes'}):\n",
    "    print(y['hola'])\n",
    "    return x\n",
    "\n"
   ]
  },
  {
   "cell_type": "code",
   "execution_count": 52,
   "metadata": {},
   "outputs": [
    {
     "data": {
      "text/plain": [
       "'good'"
      ]
     },
     "execution_count": 52,
     "metadata": {},
     "output_type": "execute_result"
    }
   ],
   "source": [
    "y = {'INTERACTING':{'yes': 'numeric','No': 'analytic'},'NO INTERACTING':{'yes','No'}}\n",
    "\n",
    "zz = {'hola':'good'}\n",
    "zz['hola']"
   ]
  },
  {
   "cell_type": "code",
   "execution_count": 55,
   "metadata": {},
   "outputs": [
    {
     "name": "stdout",
     "output_type": "stream",
     "text": [
      "NO\n"
     ]
    },
    {
     "data": {
      "text/plain": [
       "2"
      ]
     },
     "execution_count": 55,
     "metadata": {},
     "output_type": "execute_result"
    }
   ],
   "source": [
    "f(2, y = {'hola':'NO'})"
   ]
  },
  {
   "cell_type": "code",
   "execution_count": 44,
   "metadata": {},
   "outputs": [
    {
     "ename": "TypeError",
     "evalue": "cannot convert dictionary update sequence element #0 to a sequence",
     "output_type": "error",
     "traceback": [
      "\u001b[0;31m---------------------------------------------------------------------------\u001b[0m",
      "\u001b[0;31mTypeError\u001b[0m                                 Traceback (most recent call last)",
      "Cell \u001b[0;32mIn[44], line 3\u001b[0m\n\u001b[1;32m      1\u001b[0m x \u001b[38;5;241m=\u001b[39m(\u001b[38;5;241m2\u001b[39m,\u001b[38;5;241m3\u001b[39m)\n\u001b[0;32m----> 3\u001b[0m x \u001b[38;5;241m=\u001b[39m \u001b[38;5;28;43mdict\u001b[39;49m\u001b[43m(\u001b[49m\u001b[43mx\u001b[49m\u001b[43m)\u001b[49m\n",
      "\u001b[0;31mTypeError\u001b[0m: cannot convert dictionary update sequence element #0 to a sequence"
     ]
    }
   ],
   "source": [
    "x =(2,3)"
   ]
  },
  {
   "cell_type": "code",
   "execution_count": null,
   "metadata": {},
   "outputs": [],
   "source": []
  }
 ],
 "metadata": {
  "kernelspec": {
   "display_name": "Python 3",
   "language": "python",
   "name": "python3"
  },
  "language_info": {
   "codemirror_mode": {
    "name": "ipython",
    "version": 3
   },
   "file_extension": ".py",
   "mimetype": "text/x-python",
   "name": "python",
   "nbconvert_exporter": "python",
   "pygments_lexer": "ipython3",
   "version": "3.10.12"
  }
 },
 "nbformat": 4,
 "nbformat_minor": 2
}
