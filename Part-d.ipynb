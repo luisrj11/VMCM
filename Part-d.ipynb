{
 "cells": [
  {
   "cell_type": "markdown",
   "metadata": {},
   "source": [
    "# Optimization part: Finding the best parameter\n",
    "\n",
    "### Using Metropolis algorithm "
   ]
  },
  {
   "cell_type": "code",
   "execution_count": null,
   "metadata": {},
   "outputs": [],
   "source": [
    "# Packes\n",
    "import numpy as np\n",
    "from VMCM.optimizator.optimizator import Optimizator"
   ]
  },
  {
   "cell_type": "code",
   "execution_count": 24,
   "metadata": {},
   "outputs": [],
   "source": [
    "# Here starts the main program with variable declarations\n",
    "Number_particles = 1\n",
    "Dimension = 1\n",
    "Number_MC_cycles = 10**3\n",
    "\n",
    "# Type algorithm\n",
    "algorithm = 'Metropolis'\n",
    "\n",
    "# Parameter gradient descent\n",
    "bounds = np.array([[0.0,1.0]])\n",
    "iterations = 50\n",
    "learning_rate = 0.1\n",
    "\n",
    "# Type of calculation\n",
    "Type_calculations_analytic = 'analytic'\n",
    "\n",
    "optimizator_analytic = Optimizator(Number_particles,Dimension,algorithm,Type_calculations_analytic,Number_MC_cycles)\n",
    "\n",
    "alpha_analytic, Energy_analytic, Time_consuming_analytic  = optimizator_analytic.gradient_descent(bounds,iterations,learning_rate)\n",
    "\n",
    "# Type of calculation\n",
    "Type_calculations_numeric =  'numeric'\n",
    "\n",
    "optimizator_numeric= Optimizator(Number_particles,Dimension,algorithm,Type_calculations_numeric,Number_MC_cycles)\n",
    "\n",
    "alpha_numeric, Energy_numeric, Time_consuming_numeric  = optimizator_numeric.gradient_descent(bounds,iterations,learning_rate)\n"
   ]
  },
  {
   "cell_type": "code",
   "execution_count": 25,
   "metadata": {},
   "outputs": [
    {
     "name": "stdout",
     "output_type": "stream",
     "text": [
      "Analitic calculation: Best alpha: 0.5000015466422064 Energy: 0.499999780387564 Time CPU: 0.8572220802307129\n",
      "Analitic calculation: Best alpha: 0.5000072311629421 Energy: 0.5000002429492684 Time CPU: 633.9192087650299\n"
     ]
    }
   ],
   "source": [
    "print('Analitic calculation:', 'Best alpha:',alpha_analytic,'Energy:', Energy_analytic,'Time CPU:',Time_consuming_analytic)\n",
    "print('Numeric calculation:', 'Best alpha:',alpha_numeric,'Energy:', Energy_numeric,'Time CPU:',Time_consuming_numeric)\n"
   ]
  },
  {
   "cell_type": "markdown",
   "metadata": {},
   "source": [
    "# Using Metropolis Importance sampling"
   ]
  },
  {
   "cell_type": "code",
   "execution_count": 21,
   "metadata": {},
   "outputs": [],
   "source": [
    "# Here starts the main program with variable declarations\n",
    "Number_particles = 1\n",
    "Dimension = 1\n",
    "Number_MC_cycles = 10**3\n",
    "\n",
    "# Type algorithm\n",
    "algorithm = 'MetropolisHastings'\n",
    "\n",
    "# Parameter gradient descent\n",
    "bounds = np.array([[0.0,1.0]])\n",
    "iterations = 50\n",
    "learning_rate = 0.1\n",
    "\n",
    "# Type of calculation\n",
    "Type_calculations_analytic = 'analytic'\n",
    "\n",
    "optimizator_analytic = Optimizator(Number_particles,Dimension,algorithm,Type_calculations_analytic,Number_MC_cycles)\n",
    "\n",
    "alpha_analytic_imp, Energy_analytic_imp, Time_consuming_analytic_imp  = optimizator_analytic.gradient_descent(bounds,iterations,learning_rate)\n",
    "\n",
    "# Type of calculation\n",
    "Type_calculations_numeric =  'numeric'\n",
    "\n",
    "optimizator_numeric= Optimizator(Number_particles,Dimension,algorithm,Type_calculations_numeric,Number_MC_cycles)\n",
    "\n",
    "alpha_numeric_imp, Energy_numeric_imp, Time_consuming_numeric_imp = optimizator_numeric.gradient_descent(bounds,iterations,learning_rate)"
   ]
  },
  {
   "cell_type": "code",
   "execution_count": 23,
   "metadata": {},
   "outputs": [
    {
     "name": "stdout",
     "output_type": "stream",
     "text": [
      "Analitic calculation: Best alpha: 0.5000025256913098 Energy: 0.4999997163490019 Time CPU: 1.5659558773040771\n",
      "Analitic numeric: Best alpha: 0.499999830067964 Energy: 0.5000000413536516 Time CPU: 796.8570430278778\n"
     ]
    }
   ],
   "source": [
    "print('Analitic calculation:', 'Best alpha:',alpha_analytic_imp,'Energy:', Energy_analytic_imp,'Time CPU:',Time_consuming_analytic_imp)\n",
    "print('Analitic numeric:', 'Best alpha:',alpha_numeric_imp,'Energy:', Energy_numeric_imp,'Time CPU:',Time_consuming_numeric_imp)"
   ]
  },
  {
   "cell_type": "code",
   "execution_count": null,
   "metadata": {},
   "outputs": [],
   "source": []
  }
 ],
 "metadata": {
  "kernelspec": {
   "display_name": "Python 3",
   "language": "python",
   "name": "python3"
  },
  "language_info": {
   "codemirror_mode": {
    "name": "ipython",
    "version": 3
   },
   "file_extension": ".py",
   "mimetype": "text/x-python",
   "name": "python",
   "nbconvert_exporter": "python",
   "pygments_lexer": "ipython3",
   "version": "3.10.12"
  }
 },
 "nbformat": 4,
 "nbformat_minor": 2
}
